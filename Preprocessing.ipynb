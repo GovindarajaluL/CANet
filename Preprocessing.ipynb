{
 "cells": [
  {
   "cell_type": "code",
   "execution_count": 9,
   "metadata": {},
   "outputs": [],
   "source": [
    "# importing required modules \n",
    "from zipfile import ZipFile \n",
    "import datetime\n",
    "import os\n",
    "import shutil\n",
    "\n",
    "file_name='IDD_Segmentation'\n",
    "json_file_path='gtFine'\n",
    "image_path='leftImg8bit'\n",
    "temp_folder='All_data/New_data'\n",
    "\n",
    "curret_label_path= os.path.join(file_name,json_file_path,'train')\n",
    "curret_image_path= os.path.join(file_name,image_path,'train')\n",
    "files_name=[]\n",
    "\n",
    "\n",
    "for files in os.listdir(curret_image_path):\n",
    "    list_file=os.path.join(curret_image_path,files)\n",
    "    for file in os.listdir(list_file):\n",
    "        new_file_name=str(file.split('_')[0])\n",
    "        files_name.append(new_file_name)\n",
    "        json_name=new_file_name+'_gtFine_polygons.json'\n",
    "        #print(os.path.join(curret_label_path,files,json_name))\n",
    "        shutil.copy(os.path.join(curret_image_path,files,file),  temp_folder) \n",
    "        shutil.copy(os.path.join(curret_label_path,files,json_name), temp_folder)\n",
    "    \n"
   ]
  },
  {
   "cell_type": "code",
   "execution_count": 16,
   "metadata": {},
   "outputs": [],
   "source": [
    "with open('file_names.txt', 'w') as filehandle:\n",
    "    for listitem in files_name:\n",
    "        filehandle.write('%s\\n' % listitem)"
   ]
  },
  {
   "cell_type": "code",
   "execution_count": 9,
   "metadata": {},
   "outputs": [],
   "source": [
    "files_name = []\n",
    "\n",
    "# open file and read the content in a list\n",
    "with open('file_names.txt', 'r') as filehandle:\n",
    "    for line in filehandle:\n",
    "        # remove linebreak which is the last character of the string\n",
    "        currentPlace = line[:-1]\n",
    "\n",
    "        # add item to the list\n",
    "        files_name.append(currentPlace)"
   ]
  },
  {
   "cell_type": "code",
   "execution_count": 10,
   "metadata": {},
   "outputs": [
    {
     "data": {
      "text/plain": [
       "6993"
      ]
     },
     "execution_count": 10,
     "metadata": {},
     "output_type": "execute_result"
    }
   ],
   "source": [
    "len(files_name)"
   ]
  },
  {
   "cell_type": "code",
   "execution_count": null,
   "metadata": {},
   "outputs": [],
   "source": [
    "train-70 --4895\n",
    "val-10 --700\n",
    "test-20 --1398"
   ]
  },
  {
   "cell_type": "code",
   "execution_count": 1,
   "metadata": {},
   "outputs": [],
   "source": [
    "import numpy as np\n",
    "import json\n",
    "import cv2\n",
    "from zipfile import ZipFile \n",
    "import datetime\n",
    "import os\n",
    "import shutil\n",
    "\n",
    "with open('label_txt.txt') as file:\n",
    "    label_to_color_map = json.load(file)"
   ]
  },
  {
   "cell_type": "code",
   "execution_count": 17,
   "metadata": {},
   "outputs": [],
   "source": [
    "source_path=os.path.join('All_data','New_data') \n",
    "\n",
    "def creat_lables(input_path,output_path,image_no):\n",
    "    get_json_file_path =os.path.join(source_path,image_no+'_gtFine_polygons.json') \n",
    "    get_image_file_path=os.path.join(source_path,image_no+'_leftImg8bit.png') \n",
    "    \n",
    "    \n",
    "    \n",
    "    with open(get_json_file_path) as json_file:\n",
    "        \n",
    "        json_data = json.load(json_file)\n",
    "       \n",
    "        cur_img = cv2.imread(get_image_file_path,cv2.IMREAD_UNCHANGED)\n",
    "        \n",
    "        for i, obj in enumerate(json_data['objects']):\n",
    "            obj_label = obj['label']\n",
    "            color_tuple = tuple(label_to_color_map[obj_label])\n",
    "            cv2.fillPoly(cur_img,[np.array(obj['polygon']).astype(np.int32)],color=color_tuple)\n",
    "            \n",
    " \n",
    "        cv2.imwrite(os.path.join(output_path,image_no+'_leftImg8bit.png'), cur_img)\n",
    "        shutil.copy(get_image_file_path,  input_path)"
   ]
  },
  {
   "cell_type": "code",
   "execution_count": 18,
   "metadata": {},
   "outputs": [],
   "source": [
    "for image_no in range(len(files_name)):\n",
    "    \n",
    "    if image_no >=0 and image_no<= 4895: #train\n",
    "        input_path =os.path.join('datasets_all','input','train') \n",
    "        output_path=os.path.join('datasets_all','output','train')\n",
    "        creat_lables(input_path,output_path,files_name[image_no])\n",
    "        \n",
    "    if image_no >=4896 and image_no<= 5595: #val\n",
    "        input_path =os.path.join('datasets_all','input','val') \n",
    "        output_path=os.path.join('datasets_all','output','val')\n",
    "        creat_lables(input_path,output_path,files_name[image_no])\n",
    "        \n",
    "    if image_no >=5596 and image_no<= 7000: #test\n",
    "        input_path =os.path.join('datasets_all','input','test') \n",
    "        output_path=os.path.join('datasets_all','output','test')\n",
    "        creat_lables(input_path,output_path,files_name[image_no])"
   ]
  },
  {
   "cell_type": "code",
   "execution_count": 10,
   "metadata": {},
   "outputs": [],
   "source": [
    "import numpy as np\n",
    "import tensorflow as tf\n",
    "\n",
    "tt=np.array((1,2,3,3,4,6))[:3]"
   ]
  },
  {
   "cell_type": "code",
   "execution_count": 23,
   "metadata": {},
   "outputs": [],
   "source": [
    "def load_image(path):\n",
    "    image = cv2.cvtColor(cv2.imread(path,-1), cv2.COLOR_BGR2RGB)\n",
    "    return image"
   ]
  },
  {
   "cell_type": "code",
   "execution_count": null,
   "metadata": {},
   "outputs": [],
   "source": [
    "image_paths_train = glob('new_dataset/leftImg8bit/train/*_leftImg8bit.png')"
   ]
  },
  {
   "cell_type": "code",
   "execution_count": 21,
   "metadata": {},
   "outputs": [
    {
     "data": {
      "image/png": "[encoded data removed]",
      "text/plain": [
       "<Figure size 432x288 with 1 Axes>"
      ]
     },
     "metadata": {
      "needs_background": "light"
     },
     "output_type": "display_data"
    }
   ],
   "source": [
    "image = cv2.imread('datasets_all/output/val/000300_leftImg8bit.png', 1)\n",
    "plt.imshow(image)\n",
    "plt.show()"
   ]
  },
  {
   "cell_type": "code",
   "execution_count": 2,
   "metadata": {},
   "outputs": [],
   "source": [
    "import numpy as np\n",
    "\n",
    "label_values = np.array(\n",
    "[[128, 64,128] ,\n",
    "[250,170,160]  ,\n",
    "[ 81,  0, 81]  ,\n",
    " [244, 35,232]  ,\n",
    "[230,150,140]  ,\n",
    " [152,251,152]  ,\n",
    " [220, 20, 60]  ,\n",
    " [246, 198, 145],\n",
    " [255,  0,  0]  ,\n",
    " [  0,  0,230]  ,\n",
    " [119, 11, 32]  ,\n",
    " [255, 204, 54] ,\n",
    " [  0,  0,142]  ,\n",
    " [  0,  0, 70]  ,\n",
    " [  0, 60,100]  ,\n",
    " [  0,  0, 90]  ,\n",
    " [  0,  0,110]  ,\n",
    "[  0, 80,100]  ,\n",
    "[136, 143, 153],  \n",
    " [220, 190, 40],\n",
    " [102,102,156]  ,\n",
    "[190,153,153]  ,\n",
    " [180,165,180]  ,\n",
    " [174, 64, 67] ,\n",
    " [220,220,  0]  ,\n",
    " [250,170, 30]  ,\n",
    " [153,153,153]  ,\n",
    " [153,153,153]  ,\n",
    " [169, 187, 214] ,  \n",
    " [ 70, 70, 70]  ,\n",
    " [150,100,100]  ,\n",
    " [150,120, 90]  ,\n",
    " [107,142, 35]  ,\n",
    " [ 70,130,180]  ,\n",
    "  [169, 187, 214],\n",
    "  [  0,  0,  0]  ,\n",
    "  [  0,  0,  0]  ,\n",
    "  [  0,  0,  0]  ,\n",
    "  [  0,  0,  0]  ,\n",
    "  [  0,  0,142]  ], np.uint8)"
   ]
  },
  {
   "cell_type": "code",
   "execution_count": null,
   "metadata": {},
   "outputs": [],
   "source": []
  }
 ],
 "metadata": {
  "kernelspec": {
   "display_name": "Python 3",
   "language": "python",
   "name": "python3"
  },
  "language_info": {
   "codemirror_mode": {
    "name": "ipython",
    "version": 3
   },
   "file_extension": ".py",
   "mimetype": "text/x-python",
   "name": "python",
   "nbconvert_exporter": "python",
   "pygments_lexer": "ipython3",
   "version": "3.6.9"
  }
 },
 "nbformat": 4,
 "nbformat_minor": 2
}
